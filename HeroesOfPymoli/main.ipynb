{
 "cells": [
  {
   "cell_type": "code",
   "execution_count": null,
   "metadata": {},
   "outputs": [],
   "source": [
    "#import dependencies\n",
    "import pandas as pd\n",
    "import numpy as np"
   ]
  },
  {
   "cell_type": "code",
   "execution_count": null,
   "metadata": {},
   "outputs": [],
   "source": [
    "#set path for csv file\n",
    "csvpath = \"Resources/purchase_data.csv\"\n",
    "#import the purchase_data.csv file as a DataFrame\n",
    "purchase_data_df = pd.read_csv(csvpath)\n",
    "purchase_data_df.head()"
   ]
  },
  {
   "cell_type": "code",
   "execution_count": null,
   "metadata": {},
   "outputs": [],
   "source": [
    "#calculate the Player Count (PC)\n",
    "total_players = len(purchase_data_df[\"SN\"].unique())\n",
    "total_players"
   ]
  },
  {
   "cell_type": "code",
   "execution_count": null,
   "metadata": {},
   "outputs": [],
   "source": [
    "#place Player Count into a summary DataFrame\n",
    "summary_table_PC = pd.DataFrame({\"Total Players\": [total_players]})\n",
    "summary_table_PC"
   ]
  },
  {
   "cell_type": "code",
   "execution_count": null,
   "metadata": {},
   "outputs": [],
   "source": [
    "#Purchasing Analysis (PA)\n",
    "#need to find: number of unique items, average price, total # of purchases, total revenue\n",
    "#be careful of ordering\n",
    "\n",
    "#calculate the number of unique items\n",
    "unique_items = len(purchase_data_df[\"Item ID\"].unique())\n",
    "\n",
    "#calculate the total revenue\n",
    "total_revenue = sum(purchase_data_df[\"Price\"])\n",
    "\n",
    "#calculate the total number of purchases\n",
    "total_number_of_purchases = len(purchase_data_df[\"Price\"])\n",
    "\n",
    "#calculate the average price \n",
    "average_price = total_revenue / total_number_of_purchases"
   ]
  },
  {
   "cell_type": "code",
   "execution_count": null,
   "metadata": {},
   "outputs": [],
   "source": [
    "# Place all of the Purchasing Analysis data found into a summary DataFrame\n",
    "summary_table_PA = pd.DataFrame({\"Number of Unique Items\": [unique_items],\n",
    "                                                  \"Average Price\": [average_price],\n",
    "                                                  \"Number of Purchases\": [total_number_of_purchases],\n",
    "                                                  \"Total Revenue\": [total_revenue]                                                  \n",
    "                                                 })\n",
    "summary_table_PA.head()"
   ]
  },
  {
   "cell_type": "code",
   "execution_count": null,
   "metadata": {},
   "outputs": [],
   "source": [
    "#now format Average Price and Total Revenue in the summary table\n",
    "summary_table_PA[\"Average Price\"] = summary_table_PA[\"Average Price\"].map(\"${:,.2f}\".format)\n",
    "summary_table_PA[\"Total Revenue\"] = summary_table_PA[\"Total Revenue\"].map(\"${:,.2f}\".format)\n",
    "\n",
    "summary_table_PA.head()"
   ]
  },
  {
   "cell_type": "code",
   "execution_count": null,
   "metadata": {},
   "outputs": [],
   "source": [
    "#Gender Demographics (total unique count of each gender and the gender's percent of total players)\n",
    "\n",
    "#need to drop the duplicate players in order to find the numbers we're after\n",
    "player_demo = purchase_data_df.loc[:, [\"Gender\", \"SN\", \"Age\"]]\n",
    "player_demo = player_demo.drop_duplicates()\n",
    "\n",
    "#generate totals for each gender\n",
    "gender_total = player_demo[\"Gender\"].value_counts()\n",
    "\n",
    "#generate percents for each gender\n",
    "gender_percent = gender_total / total_players \n"
   ]
  },
  {
   "cell_type": "code",
   "execution_count": null,
   "metadata": {},
   "outputs": [],
   "source": [
    "#put gender demographics into a summary table\n",
    "gender_demo_df = pd.DataFrame({\"Total Count\": gender_total, \"Percentage of Players\": gender_percent})\n",
    "gender_demo_df"
   ]
  },
  {
   "cell_type": "code",
   "execution_count": null,
   "metadata": {},
   "outputs": [],
   "source": [
    "#format the percentage of players\n",
    "gender_demo_df[\"Percentage of Players\"] = gender_demo_df[\"Percentage of Players\"].map(\"{:,.2%}\".format)\n",
    "gender_demo_df"
   ]
  },
  {
   "cell_type": "code",
   "execution_count": null,
   "metadata": {},
   "outputs": [],
   "source": [
    "#Purchasing Analysis (Gender)\n",
    "\n",
    "#use GroupBy in order to separate the data into fields according to \"gender\" values\n",
    "gender_groupby_df = purchase_data_df.groupby([\"Gender\"])\n",
    "gender_groupby_df.count()"
   ]
  },
  {
   "cell_type": "code",
   "execution_count": null,
   "metadata": {},
   "outputs": [],
   "source": [
    "type(gender_groupby_df)"
   ]
  },
  {
   "cell_type": "code",
   "execution_count": null,
   "metadata": {},
   "outputs": [],
   "source": [
    "gender_groupby_df\n",
    "test = gender_groupby_df.aggregate(np.sum)\n",
    "test"
   ]
  },
  {
   "cell_type": "code",
   "execution_count": null,
   "metadata": {},
   "outputs": [],
   "source": [
    "type(test)"
   ]
  },
  {
   "cell_type": "code",
   "execution_count": null,
   "metadata": {},
   "outputs": [],
   "source": [
    "test.dtypes"
   ]
  },
  {
   "cell_type": "code",
   "execution_count": null,
   "metadata": {},
   "outputs": [],
   "source": [
    "type(gender_demo_df)"
   ]
  },
  {
   "cell_type": "code",
   "execution_count": null,
   "metadata": {},
   "outputs": [],
   "source": [
    "gender_demo_df.dtypes"
   ]
  },
  {
   "cell_type": "code",
   "execution_count": null,
   "metadata": {},
   "outputs": [],
   "source": [
    "gender_demo_df"
   ]
  },
  {
   "cell_type": "code",
   "execution_count": null,
   "metadata": {},
   "outputs": [],
   "source": [
    "kyle_merge_df = pd.merge(gender_demo_df, test, on=\"Gender\")\n",
    "kyle_merge_df"
   ]
  },
  {
   "cell_type": "code",
   "execution_count": null,
   "metadata": {},
   "outputs": [],
   "source": [
    "#by gender, obtain purchase count, avg. purchase price, total purchase value, avg. purchase total per person\n",
    "\n",
    "#purchase count\n",
    "purchase_count = gender_groupby_df[\"Purchase ID\"].count()\n",
    "purchase_count\n",
    "print(purchase_count)\n",
    "\n",
    "total_purchased = gender_groupby_df[\"Price\"].sum()\n",
    "total_purchased\n",
    "print(total_purchased)\n",
    "\n",
    "ave_price = total_purchased / purchase_count\n",
    "ave_price\n",
    "print(ave_price)\n",
    "\n",
    "gender_groupby_df[\"SN\"]\n",
    "\n",
    "##need to find unique gender totals in order to find average total purchase per person\n",
    "#total_purchased / total_players"
   ]
  },
  {
   "cell_type": "code",
   "execution_count": null,
   "metadata": {},
   "outputs": [],
   "source": [
    "#create new DataFrame to display Purchase Analysis by Gender\n",
    "gender_groupby_df = pd.DataFrame({\"Purchase Count\": purchase_count,\n",
    "                                  \"Average Purchase Price\": ave_price,\n",
    "                                  \"Total Purchase Value\": total_purchased})\n",
    "gender_groupby_df"
   ]
  },
  {
   "cell_type": "code",
   "execution_count": null,
   "metadata": {},
   "outputs": [],
   "source": [
    "#Age Demographics\n",
    "\n",
    "#figure out the minimum and maximum ages for players\n",
    "print(player_demo[\"Age\"].max())\n",
    "print(player_demo[\"Age\"].min())"
   ]
  },
  {
   "cell_type": "code",
   "execution_count": null,
   "metadata": {},
   "outputs": [],
   "source": [
    "#establish bins for ages\n",
    "bins = [0, 9, 14, 19, 24, 29, 34, 39, 50]\n",
    "\n",
    "group_labels = [\"<10\", \"10-14\", \"15-19\", \"20-24\", \"25-29\", \"30-34\", \"35-39\", \"40+\"]"
   ]
  },
  {
   "cell_type": "code",
   "execution_count": null,
   "metadata": {},
   "outputs": [],
   "source": [
    "pd.cut(player_demo[\"Age\"], bins, labels=group_labels).head()\n",
    "#series"
   ]
  },
  {
   "cell_type": "code",
   "execution_count": null,
   "metadata": {},
   "outputs": [],
   "source": [
    "player_demo[\"Age Group\"] = pd.cut(player_demo[\"Age\"], bins, labels=group_labels)\n",
    "player_demo\n",
    "#DF"
   ]
  },
  {
   "cell_type": "code",
   "execution_count": null,
   "metadata": {},
   "outputs": [],
   "source": [
    "age_counts = player_demo[\"Age Group\"].value_counts()\n",
    "age_counts\n",
    "type(age_counts)"
   ]
  },
  {
   "cell_type": "code",
   "execution_count": null,
   "metadata": {},
   "outputs": [],
   "source": [
    "total_gender = player_demo[\"Gender\"].value_counts()\n",
    "total_gender\n",
    "type(total_gender)"
   ]
  },
  {
   "cell_type": "code",
   "execution_count": null,
   "metadata": {},
   "outputs": [],
   "source": [
    "#total_players = total_gender.sum()"
   ]
  },
  {
   "cell_type": "code",
   "execution_count": null,
   "metadata": {},
   "outputs": [],
   "source": [
    "age_percent_makeup = age_counts / total_players\n",
    "age_percent_makeup\n",
    "type(age_percent_makeup)"
   ]
  },
  {
   "cell_type": "code",
   "execution_count": null,
   "metadata": {},
   "outputs": [],
   "source": [
    "age_demographics_table_df = pd.DataFrame({\"Total Count\": age_counts,\n",
    "                                          \"Percentage of Players\": age_percent_makeup}).sort_index()\n",
    "age_demographics_table_df"
   ]
  },
  {
   "cell_type": "code",
   "execution_count": null,
   "metadata": {},
   "outputs": [],
   "source": [
    "age_demographics_table_df[\"Percentage of Players\"] = age_demographics_table_df[\"Percentage of Players\"].map(\"{:,.2%}\".format)\n",
    "age_demographics_table_df"
   ]
  },
  {
   "cell_type": "code",
   "execution_count": null,
   "metadata": {},
   "outputs": [],
   "source": []
  },
  {
   "cell_type": "code",
   "execution_count": null,
   "metadata": {},
   "outputs": [],
   "source": []
  },
  {
   "cell_type": "code",
   "execution_count": null,
   "metadata": {},
   "outputs": [],
   "source": []
  },
  {
   "cell_type": "code",
   "execution_count": null,
   "metadata": {},
   "outputs": [],
   "source": [
    "age_group = player_demo.loc[player_demo[\"Age Group\"].value_counts()]\n",
    "age_group\n",
    "#DF"
   ]
  },
  {
   "cell_type": "code",
   "execution_count": null,
   "metadata": {},
   "outputs": [],
   "source": []
  },
  {
   "cell_type": "code",
   "execution_count": null,
   "metadata": {},
   "outputs": [],
   "source": []
  },
  {
   "cell_type": "code",
   "execution_count": null,
   "metadata": {},
   "outputs": [],
   "source": []
  },
  {
   "cell_type": "code",
   "execution_count": null,
   "metadata": {},
   "outputs": [],
   "source": []
  },
  {
   "cell_type": "code",
   "execution_count": null,
   "metadata": {},
   "outputs": [],
   "source": []
  },
  {
   "cell_type": "code",
   "execution_count": null,
   "metadata": {},
   "outputs": [],
   "source": []
  },
  {
   "cell_type": "code",
   "execution_count": null,
   "metadata": {},
   "outputs": [],
   "source": []
  },
  {
   "cell_type": "code",
   "execution_count": null,
   "metadata": {},
   "outputs": [],
   "source": []
  },
  {
   "cell_type": "code",
   "execution_count": null,
   "metadata": {},
   "outputs": [],
   "source": [
    "total_players = player_demo[\"Age Group\"].count()\n",
    "total_players"
   ]
  },
  {
   "cell_type": "code",
   "execution_count": null,
   "metadata": {},
   "outputs": [],
   "source": [
    " # Create a GroupBy object based upon \"View Group\"\n",
    "age_group = player_demo.groupby(\"Age Group\")\n",
    "\n",
    "# Find how many rows fall into each bin\n",
    "#print(age_group[\"Gender\"].count())\n",
    "\n",
    "#total_count = age_group[[\"Age Group\"]].count()\n",
    "total_count = age_group.count()\n",
    "total_count"
   ]
  },
  {
   "cell_type": "code",
   "execution_count": null,
   "metadata": {},
   "outputs": [],
   "source": [
    "age_percent = total_count / total_players\n",
    "age_percent"
   ]
  },
  {
   "cell_type": "code",
   "execution_count": null,
   "metadata": {},
   "outputs": [],
   "source": [
    "age_demo_summary_table = pd.DataFrame({\"Total Count\": [total_count], \"Percent\": [age_percent]})\n",
    "age_demo_summary_table"
   ]
  },
  {
   "cell_type": "code",
   "execution_count": null,
   "metadata": {},
   "outputs": [],
   "source": []
  },
  {
   "cell_type": "code",
   "execution_count": null,
   "metadata": {},
   "outputs": [],
   "source": []
  },
  {
   "cell_type": "code",
   "execution_count": null,
   "metadata": {},
   "outputs": [],
   "source": []
  },
  {
   "cell_type": "code",
   "execution_count": null,
   "metadata": {},
   "outputs": [],
   "source": []
  },
  {
   "cell_type": "code",
   "execution_count": null,
   "metadata": {},
   "outputs": [],
   "source": []
  },
  {
   "cell_type": "code",
   "execution_count": null,
   "metadata": {},
   "outputs": [],
   "source": []
  },
  {
   "cell_type": "code",
   "execution_count": null,
   "metadata": {},
   "outputs": [],
   "source": []
  },
  {
   "cell_type": "code",
   "execution_count": null,
   "metadata": {},
   "outputs": [],
   "source": [
    "#determine gender classifications\n",
    "purchase_data_df[\"Gender\"].unique()"
   ]
  },
  {
   "cell_type": "code",
   "execution_count": null,
   "metadata": {},
   "outputs": [],
   "source": [
    "gender_groupby_df = purchase_data_df.groupby([\"Gender\"])\n",
    "print(gender_groupby_df)\n",
    "gender_groupby_df.count()"
   ]
  },
  {
   "cell_type": "code",
   "execution_count": null,
   "metadata": {},
   "outputs": [],
   "source": [
    "gender_groupby_df[\"Purchase ID\"].unique().count()\n"
   ]
  },
  {
   "cell_type": "code",
   "execution_count": null,
   "metadata": {},
   "outputs": [],
   "source": [
    "gender_groupby_df[\"SN\"].count()"
   ]
  },
  {
   "cell_type": "code",
   "execution_count": null,
   "metadata": {
    "scrolled": true
   },
   "outputs": [],
   "source": [
    "gender_groupby_df[\"SN\"].unique()"
   ]
  },
  {
   "cell_type": "code",
   "execution_count": null,
   "metadata": {},
   "outputs": [],
   "source": [
    "print(len(gender_groupby_df[\"SN\"].unique()))"
   ]
  },
  {
   "cell_type": "code",
   "execution_count": null,
   "metadata": {},
   "outputs": [],
   "source": [
    "male_players = purchase_data_df.loc[purchase_data_df[\"Gender\"].value_counts()\n",
    "total_male_players = len(male_players[\"SN\"].unique())\n",
    "print(total_male_players)"
   ]
  },
  {
   "cell_type": "code",
   "execution_count": null,
   "metadata": {},
   "outputs": [],
   "source": [
    "gender_players_total = purchase_data_df[\"Gender\"].value_counts()\n",
    "gender_players_total"
   ]
  },
  {
   "cell_type": "code",
   "execution_count": null,
   "metadata": {},
   "outputs": [],
   "source": [
    "#male_players = purchase_data_df.loc[purchase_data_df[\"Gender\"] == \"Male\", :]\n",
    "#total_male_players = len(male_players[\"SN\"].unique())\n",
    "#total_male_players\n",
    "#male_percent = (total_male_players) / (total_players) * 100\n",
    "#male_percent"
   ]
  },
  {
   "cell_type": "code",
   "execution_count": null,
   "metadata": {},
   "outputs": [],
   "source": [
    "#female_players = purchase_data_df.loc[purchase_data_df[\"Gender\"] == \"Female\", :]\n",
    "#total_female_players = len(female_players[\"SN\"].unique())\n",
    "#total_female_players\n",
    "#female_percent = (total_female_players) / (total_players) * 100\n",
    "#female_percent"
   ]
  },
  {
   "cell_type": "code",
   "execution_count": null,
   "metadata": {},
   "outputs": [],
   "source": [
    "#other_players = purchase_data_df.loc[purchase_data_df[\"Gender\"] == \"Other / Non-Disclosed\", :]\n",
    "#total_other_players = len(other_players[\"SN\"].unique())\n",
    "#total_other_players\n",
    "#other_percent = (total_other_players) / (total_players) * 100\n",
    "#other_percent"
   ]
  },
  {
   "cell_type": "code",
   "execution_count": null,
   "metadata": {},
   "outputs": [],
   "source": [
    "#gender_summary = pd.DataFrame([{\"Total Count\": total_male_players, \"Percentage of Players\": male_percent},\n",
    "                               {\"Total Count\": total_female_players, \"Percentage of Players\": female_percent},\n",
    "                               {\"Total Count\": total_other_players, \"Percentage of Players\": other_percent}])\n",
    "#gender_summary"
   ]
  },
  {
   "cell_type": "code",
   "execution_count": null,
   "metadata": {},
   "outputs": [],
   "source": []
  },
  {
   "cell_type": "code",
   "execution_count": null,
   "metadata": {},
   "outputs": [],
   "source": []
  },
  {
   "cell_type": "code",
   "execution_count": null,
   "metadata": {},
   "outputs": [],
   "source": [
    "gender_analysis_df = purchase_data_df[[\"SN\", \"Gender\", \"Item Name\", \"Price\"]]\n",
    "gender_analysis_df.head()"
   ]
  },
  {
   "cell_type": "code",
   "execution_count": null,
   "metadata": {},
   "outputs": [],
   "source": [
    "gender_analysis_df = gender_analysis_df.groupby([\"Gender\"])\n",
    "\n",
    "ga_test = gender_analysis_df.count()\n",
    "ga_test"
   ]
  },
  {
   "cell_type": "code",
   "execution_count": null,
   "metadata": {},
   "outputs": [],
   "source": [
    "gender_analysis_df[\"SN\"].unique()"
   ]
  },
  {
   "cell_type": "code",
   "execution_count": null,
   "metadata": {},
   "outputs": [],
   "source": []
  },
  {
   "cell_type": "code",
   "execution_count": null,
   "metadata": {},
   "outputs": [],
   "source": [
    "#Gender Demographics (GD)\n",
    "#find percent and count of: male players, female players and other/non-disclosed players\n",
    "\n",
    "#male players\n",
    "#create a dataframe removing females and other/non-disclosed\n",
    "male_players_df = purchase_data_df.loc[purchase_data_df[\"Gender\"] == \"Male\", :]\n",
    "\n",
    "#find unique number of male players\n",
    "total_male_players = len(male_players_df[\"SN\"].unique())\n",
    "\n",
    "#percent of players which are male\n",
    "male_percent = (total_male_players) / (total_players) * 100\n",
    "\n",
    "male_players_df.head()\n",
    "\n"
   ]
  },
  {
   "cell_type": "code",
   "execution_count": null,
   "metadata": {},
   "outputs": [],
   "source": [
    "#Gender Demographics (GD)\n",
    "#female players\n",
    "\n",
    "#create female dataframe\n",
    "female_players_df = purchase_data_df.loc[purchase_data_df[\"Gender\"] == \"Female\", :]\n",
    "\n",
    "#find total unique female players\n",
    "total_female_players = len(female_players_df[\"SN\"].unique())\n",
    "\n",
    "female_percent = (total_female_players) / (total_players) * 100\n",
    "\n",
    "\n",
    "female_players_df.head()"
   ]
  },
  {
   "cell_type": "code",
   "execution_count": null,
   "metadata": {},
   "outputs": [],
   "source": [
    "#Gender Demographics (GD)\n",
    "#other/non-disclosed players\n",
    "\n",
    "#create other/non-disclosed dataframe\n",
    "other_players_df = purchase_data_df.loc[purchase_data_df[\"Gender\"] == \"Other / Non-Disclosed\", :]\n",
    "\n",
    "#find total unique other players\n",
    "total_other_players = len(other_players_df[\"SN\"].unique())\n",
    "\n",
    "\n",
    "other_percent = (total_other_players) / (total_players) * 100\n",
    "\n",
    "other_players_df.head()"
   ]
  },
  {
   "cell_type": "code",
   "execution_count": null,
   "metadata": {},
   "outputs": [],
   "source": [
    "m_f = pd.merge(male_players_df, female_players_df, on=\"Purchase ID\")\n",
    "gender_merge"
   ]
  },
  {
   "cell_type": "code",
   "execution_count": null,
   "metadata": {},
   "outputs": [],
   "source": [
    "m_f_o = pd.merge(m_f, other_players_df, on=\"Purchase ID\")\n",
    "m_f_o"
   ]
  },
  {
   "cell_type": "code",
   "execution_count": null,
   "metadata": {},
   "outputs": [],
   "source": []
  },
  {
   "cell_type": "code",
   "execution_count": null,
   "metadata": {},
   "outputs": [],
   "source": [
    "\n"
   ]
  },
  {
   "cell_type": "code",
   "execution_count": null,
   "metadata": {},
   "outputs": [],
   "source": []
  },
  {
   "cell_type": "code",
   "execution_count": null,
   "metadata": {},
   "outputs": [],
   "source": []
  }
 ],
 "metadata": {
  "kernelspec": {
   "display_name": "Python 3",
   "language": "python",
   "name": "python3"
  },
  "language_info": {
   "codemirror_mode": {
    "name": "ipython",
    "version": 3
   },
   "file_extension": ".py",
   "mimetype": "text/x-python",
   "name": "python",
   "nbconvert_exporter": "python",
   "pygments_lexer": "ipython3",
   "version": "3.7.4"
  }
 },
 "nbformat": 4,
 "nbformat_minor": 2
}
